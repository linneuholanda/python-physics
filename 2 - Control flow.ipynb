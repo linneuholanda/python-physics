{
 "cells": [
  {
   "cell_type": "markdown",
   "metadata": {},
   "source": [
    "# Control flow and iterables\n",
    "\n",
    "In this notebook we introduce [control flow](https://en.wikipedia.org/wiki/Control_flow) tools that will allow us to write real world code used in simulations. As their name imply, these structures determine the paths that can be taken in a particular code. Let us start with the `if/elif/else` statement.\n",
    "The example below illustrates their general structure.\n",
    "\n",
    "```python\n",
    "import random\n",
    "a = random.random()\n",
    "print(\"Random number picked in [0,1): \", a)\n",
    "if a < 1/3:\n",
    "    subinterval = \"[0,1/3)\"\n",
    "elif a < 2/3:\n",
    "    subinterval = \"[1/3,2/3)\"\n",
    "else:\n",
    "    subinterval = \"[2/3,1)\"\n",
    "print(\"a belongs to \" + subinterval)\n",
    "```\n",
    "\n"
   ]
  },
  {
   "cell_type": "code",
   "execution_count": null,
   "metadata": {
    "collapsed": false
   },
   "outputs": [],
   "source": []
  },
  {
   "cell_type": "markdown",
   "metadata": {},
   "source": [
    "The piece of code above uses the [random module](https://docs.python.org/3.6/library/random.html). This library contains\n",
    "implementations of pseudo-random number generators for several probability distributions. If you type `random.random()` in the interactive console, you will see that a number in the interval $[0,1)$ is printed to the screen. Thus, `random.random()` samples from the [uniform probability distribution](https://en.wikipedia.org/wiki/Uniform_distribution_(continuous) ) in $[0,1)$. In our code above, the number sampled is assigned to the variable `a` and a string is printed to the screen telling us what value `a` points to. What is done next depends on the value assigned to `a`. If the value sampled is less than $1/3$, the boolean expression `a < 1/3` returns `True` and the command `subinterval = \"[0,1/3)\"` is executed. If the sampled number is greater than $1/3$, the interpreter ignores the assignment in the scope of the `if` statement and tests the condition on the `elif` statement. Therefore, if the variable `a` satisfies $\\frac{1}{3}\\leq$ `a` $< \\frac{2}{3}$, the condition evaluated in the `elif` statement will return `True` and the line `subinterval = \"[1/3,2/3)\"` will be executed. On the other hand, if $\\frac{2}{3}\\leq a$, both the `if` and `elif` conditions will be false and the line inside the scope of the `else` statement, `subinterval = \"[2/3,1)\"`, will be executed. After this `if/elif/else` structure, a line telling us the interval `a` belongs to is printed. You should note that you can use as many `elif` statements as you want. Of course, you are not obliged to use neither `elif` nor `else` after an `if` statement: they are optional. The general formula for Python conditional statements is summarized below.\n",
    "\n",
    "\n",
    "```python\n",
    "if boolean expression:\n",
    "    block of code\n",
    "elif another boolean expression:  #This is optional!\n",
    "    another block of code\n",
    "else:                             #This is optional too!\n",
    "    yet another block of code ```\n",
    " \n",
    "You can put these concepts in practice in the next exercises.  \n",
    "\n",
    "\n",
    " \n",
    "     \n"
   ]
  },
  {
   "cell_type": "markdown",
   "metadata": {},
   "source": [
    "#### Exercise 1.  Write a similar program to the example above. \n",
    "\n",
    "This time, divide the interval $[0,1)$ in five subintervals. Use print statements to check your code. "
   ]
  },
  {
   "cell_type": "code",
   "execution_count": 1,
   "metadata": {
    "collapsed": false
   },
   "outputs": [
    {
     "name": "stdout",
     "output_type": "stream",
     "text": [
      "Random number picked in [0,1): 0.39125807413310065\n",
      "Second Fifth\n"
     ]
    }
   ],
   "source": []
  },
  {
   "cell_type": "markdown",
   "metadata": {},
   "source": [
    "#### Exercise 2.  The module function.\n",
    "\n",
    "Implement and plot the module function,\n",
    "\n",
    "\\begin{equation}\n",
    "|x| = \\begin{cases}\n",
    "       x &\\text{ if } x\\geq 0,\\\\ \n",
    "       -x & \\text{ if } x < 0.\n",
    "      \\end{cases}\n",
    "\\end{equation}\n"
   ]
  },
  {
   "cell_type": "code",
   "execution_count": null,
   "metadata": {
    "collapsed": true
   },
   "outputs": [],
   "source": []
  },
  {
   "cell_type": "markdown",
   "metadata": {
    "collapsed": true
   },
   "source": [
    "#### Exercise 3. The greatest of three numbers.\n",
    "Write a function that takes in three numbers and returns the greatest one."
   ]
  },
  {
   "cell_type": "code",
   "execution_count": null,
   "metadata": {
    "collapsed": true
   },
   "outputs": [],
   "source": []
  },
  {
   "cell_type": "markdown",
   "metadata": {},
   "source": [
    "Now we get to the point where we will be able to write real world programs.  The data structure that will allow us to do this is the `for` loop. With loops, we will be able to solve problems of arbitrary complexity. Up to this point, we have been writing programs that run in constant time. This means that the amount of time it will take to run them is bounded by their number of lines of code. Evidently this a problem, since as complexity grows we will have to write ever more lines of code. Clearly this task will  quickly become impracticable. As an example, suppose we naively decide to compute the sum of the first $n$ natural numbers by adding them one by one. We would quickly be overwhelmed! A for loop does this trivially:\n",
    "\n",
    "```python\n",
    "def sum_natural_numbers(n):\n",
    "    \"\"\"\n",
    "    Sums the n first natural numbers\n",
    "    \n",
    "    n: last number in the sum\n",
    "    \"\"\"\n",
    "    total_sum = 0\n",
    "    for number in range(n+1):\n",
    "        total_sum = total_sum + number\n",
    "    return total_sum\n",
    "\n",
    "```"
   ]
  },
  {
   "cell_type": "code",
   "execution_count": null,
   "metadata": {
    "collapsed": true
   },
   "outputs": [],
   "source": []
  },
  {
   "cell_type": "markdown",
   "metadata": {},
   "source": [
    "The `for` loop above has been implemented with a [range-type](https://docs.python.org/3.6/library/stdtypes.html#ranges) object. These objects are used in the following way.\n",
    "\n",
    "```python\n",
    "range(start, stop, step)\n",
    "```\n",
    "\n",
    "We provide three arguments to `range`: a start point that defaults to $0$ if ommited; a stop point that has to be provided, since it has no default value; and a step size, which is how we will reach the stop point from the start point. The step size defaults to one. Note that in the example we provided above, we have used exactly the default values for start and step, so we only cared to give the stop argument.\n",
    "\n",
    "How does the `sum_natural_numbers(n)` function work? We initialize the `total_sum` variable, which points to the partial sums, to zero. After this, the for loop does the work for us. The variable `number` takes every single value from `0` to `n` in steps of `1` and adds it to `total_sum`. It is important to note that the command inside the `for` loop is only executed while `number < n+1`. That is, the value `n+1` is itself excluded. That is why in our code above we computed the sum of the `n` first numbers with a `range` whose `stop` point is `n+1`. We can see all the elements generated by `range` by generating a list from it:\n",
    "\n",
    "```python\n",
    "list(range_object)\n",
    "```"
   ]
  },
  {
   "cell_type": "markdown",
   "metadata": {},
   "source": [
    "#### Exercise 4. Compute sum of n first a-th powers of natural numbers.\n",
    "\n",
    "Write code that implements the function $\\text{Sum}(n,a) = \\sum_{i=1}^n i^a$.\n",
    "\n"
   ]
  },
  {
   "cell_type": "code",
   "execution_count": null,
   "metadata": {
    "collapsed": true
   },
   "outputs": [],
   "source": []
  },
  {
   "cell_type": "markdown",
   "metadata": {},
   "source": [
    "#### Exercise 5. Compute factorials.\n",
    "Write a function that takes a natural number and returns its factorial.\n"
   ]
  },
  {
   "cell_type": "code",
   "execution_count": null,
   "metadata": {
    "collapsed": true
   },
   "outputs": [],
   "source": []
  },
  {
   "cell_type": "markdown",
   "metadata": {},
   "source": [
    "#### Exercise 6. The Basel series."
   ]
  },
  {
   "cell_type": "markdown",
   "metadata": {},
   "source": [
    "It is said that [Leonhard Euler](https://en.wikipedia.org/wiki/Leonhard_Euler) proved the convergence of the [Basel series](https://en.wikipedia.org/wiki/Basel_problem) in 1734. He showed that \n",
    "$\\sum^\\infty_{n=1} \\frac{1}{n^2} = \\frac{\\pi^2}{6}$. Write a function that computes the sum of the first $n$ terms of the Basel series. Plot the partial sums versus $n$ with a horizontal line at $y = \\frac{\\pi^2}{6}$, so that it becomes evident  that the Basel series is indeed converging.  "
   ]
  },
  {
   "cell_type": "code",
   "execution_count": null,
   "metadata": {
    "collapsed": true
   },
   "outputs": [],
   "source": []
  },
  {
   "cell_type": "markdown",
   "metadata": {},
   "source": [
    "## Iterables\n",
    "\n",
    "Loops are intimately related to iterables. Indeed we could be tautological and say that iterables are data structures that can be looped over. We have been using them for a while now: whenever we plotted anything, we always had to create lists of x coordinates and y coordinates and pass them as arguments to `plt.plot()`. It is worth spending a little time in these data structures, since they are among Python's basic data types. They are the following.\n",
    "\n",
    "1. Strings;\n",
    "2. Lists;\n",
    "2. Tuples;\n",
    "3. Dictionaries.\n",
    "\n",
    "Let us briefly review each of these types.\n",
    "\n",
    "\n"
   ]
  },
  {
   "cell_type": "markdown",
   "metadata": {},
   "source": [
    "### Strings\n",
    "In Python, strings are of type `str`. They are created from characters enclosed between quotes (single or double). The most trivial use you can give them is simply to print text to the screen. For example,\n",
    "```python\n",
    "print(\"hello world!\")\n",
    "```\n",
    "prints this silly (albeit very canonical in computer science) message. There is a lot more to strings in Python though. Indeed, they are a nice oportunity to introduce some basic concepts related to object orientation. We can think of particular strings such as `\"hello world\"` as instances of a larger class of objects, in this case the class `str`. The advantage of thinking in these terms is that a class is a big bundle that includes not only the instances, but also functions that act on them. We call these functions methods. For example, given any lower case string, we might want to get its upper case version. This is is easily accomplished with the `str.upper()` method.\n",
    "\n",
    "```python\n",
    "myLowerCaseString = \"hello world\"\n",
    "myUpperCaseString = myLowerCaseString.upper()\n",
    "print(myUpperCaseString)\n",
    "```\n",
    "The pattern you see above, which is called dot notation, will repeat itself when using this object-oriented approach. The general recipe to apply the method `myMethod` to an instance `myObject` of a class is\n",
    "\n",
    "```python\n",
    "myObject.myMethod(required arguments)\n",
    "```\n",
    "\n",
    "Python provides several [built-in string methods](https://docs.python.org/3.6/library/stdtypes.html#string-methods). We can indeed see the methods available in a class using a command such as the one below.\n",
    "\n",
    "```python\n",
    "dir(str) \n",
    "``` \n",
    "\n",
    "Let us explore some of these methods in the next exercises."
   ]
  },
  {
   "cell_type": "markdown",
   "metadata": {},
   "source": [
    "#### Exercise 7.  Wiping out vowels from a string.\n",
    "Define the function `remove_vowels(aString)` that takes in a string as input and returns another string that is equal to the first one except that with all vowels removed. Hint: use the `str.replace()` method. The empty string in Python is `\"\"` or `''`."
   ]
  },
  {
   "cell_type": "code",
   "execution_count": null,
   "metadata": {
    "collapsed": true
   },
   "outputs": [],
   "source": []
  },
  {
   "cell_type": "markdown",
   "metadata": {
    "collapsed": true
   },
   "source": [
    "### Lists\n",
    "We are going to view Python's `list` type as just that: a list of obects (although the concept of list can be made [more precise][1] in computer science). Python's lists have two important features: they are mutable and they can store objects of different types. By mutable we mean that we can \"edit\" the contents of a given list at any time. Let us try a small example.\n",
    "\n",
    "```python\n",
    "myList = [1,2,\"Hello World\"]\n",
    "print(\"This is my list: \", myList)\n",
    "myList[0] = 0\n",
    "print(\"This is my edited list: \", myList)\n",
    "print(\"Length of myList: \", len(myList))\n",
    "\n",
    "```\n",
    "\n",
    "[1]: https://en.wikipedia.org/wiki/List_(abstract_data_type)"
   ]
  },
  {
   "cell_type": "code",
   "execution_count": null,
   "metadata": {
    "collapsed": true
   },
   "outputs": [],
   "source": []
  },
  {
   "cell_type": "markdown",
   "metadata": {},
   "source": [
    "The above example illustrates the important points well. First, a list in Python is written with brackets. After initializing the list, we changed its zeroth entry. This is an important point to note: indexing in Python starts at zero. In the end we use the `len()` function to print the list's length, which is equal to the number of elements in the list. Also note that the list above contains objects of different types: `int` and `str`. \n",
    "\n",
    "Just as with strings, Python has several [built-in list methods](https://docs.python.org/3.6/tutorial/datastructures.html#more-on-lists) that perform usual operations on lists. You will surely use them a lot. \n",
    "\n",
    "Besides using lists to store data, we shall loop over them very often. Given any of the iterable types, we can do this with the following command.\n",
    "\n",
    "\n",
    "```python\n",
    "for element in iterable:\n",
    "    block of code\n",
    "\n",
    "```\n",
    "\n",
    "Another way to iterate over lists (and any other ordered iterable) is by indexing. Indeed given the iterable `orderedIterable`, we could write the following code to iterate over it.\n",
    "\n",
    "```python\n",
    "for index in range(len(orderedIterable)):\n",
    "    block of code\n",
    "```\n",
    "In the next exercise you will implement these two modes of iteration."
   ]
  },
  {
   "cell_type": "markdown",
   "metadata": {
    "collapsed": true
   },
   "source": [
    "#### Exercise 8. Two ways to iterate.\n",
    "Write two functions, `print_iterable(anIterable)` and `print_by_index(orderedIterable)`. The first takes an iterable object and prints all its elements by the first method. The last one does the same, but using the second method. Test your functions with the string `\"hello world!\"` and the list `[0,1,2,3,4,5,6,7,8,9]`."
   ]
  },
  {
   "cell_type": "code",
   "execution_count": null,
   "metadata": {
    "collapsed": true
   },
   "outputs": [],
   "source": []
  },
  {
   "cell_type": "markdown",
   "metadata": {},
   "source": [
    "#### Exercise 9. Finding the divisors of a given number.\n",
    "\n",
    "Write a function `divisors(n)` that takes as input a natural number and returns a list with all its positive divisors."
   ]
  },
  {
   "cell_type": "code",
   "execution_count": null,
   "metadata": {
    "collapsed": true
   },
   "outputs": [],
   "source": []
  },
  {
   "cell_type": "markdown",
   "metadata": {},
   "source": [
    "#### Exercise 10. Build a list from a string.\n",
    "Write a function `build_list(aString)` that takes in a string and returns a list with all the letters in the string. Hint: you may use a `for` loop, but there are other ways to do it."
   ]
  },
  {
   "cell_type": "code",
   "execution_count": null,
   "metadata": {
    "collapsed": true
   },
   "outputs": [],
   "source": []
  },
  {
   "cell_type": "markdown",
   "metadata": {},
   "source": [
    "#### Exercise 11. Find prime numbers.\n",
    "\n",
    "Write a function that searches the first $n$ natural numbers for [primes](https://en.wikipedia.org/wiki/Prime_number). Your function `find_primes(n)` should return a list with all the prime numbers $ <= n$. Hint: you might want to define another function that checks if a number is a prime.  "
   ]
  },
  {
   "cell_type": "code",
   "execution_count": null,
   "metadata": {
    "collapsed": true
   },
   "outputs": [],
   "source": []
  },
  {
   "cell_type": "markdown",
   "metadata": {},
   "source": [
    "#### Exercise 12. Binary search.\n",
    "\n",
    "In this exercise we use [binary search](https://en.wikipedia.org/wiki/Binary_search_algorithm) to find wheter and where an element is in a list. The algorithm works as follows: at each iteration, we divide the unsearched list in two halves and choose one of them to inspect. If the element we are searching for is found, the search stops. If not, the search moves on to the unsearched half. Fill in the remaining steps below."
   ]
  },
  {
   "cell_type": "code",
   "execution_count": 1,
   "metadata": {
    "collapsed": true
   },
   "outputs": [],
   "source": [
    "def binary_search(aList, element):\n",
    "    '''\n",
    "    Finds and element in a list via binary search. Returns the index where \n",
    "    element was found, or a message saying the element was not found in the \n",
    "    list.\n",
    "    \n",
    "    aList: list to be searched\n",
    "    element: the element we are looking for in aList. \n",
    "    '''\n",
    "    pass\n",
    "    \n",
    "    \n",
    "    "
   ]
  },
  {
   "cell_type": "markdown",
   "metadata": {},
   "source": [
    "### Tuples\n",
    "The next iterable type in Python is the `tuple` type that consists, well, of tuples. They seem very similar to lists, so it is important to emphasize their differences. Just like strings, tuples are immutable. This means that once you have created a `tuple` object, you cannot change it anymore. This adds safety to your code when immutability is desired. Python's designers also had in their minds different uses for lists and [tuples](https://docs.python.org/3.6/tutorial/datastructures.html#tuples-and-sequences). Although not mandatory, lists should be homogeneous, whilst tuples should be heterogeneous. This means that each entry in a tuple ideally should have a different meaning. Think for example of polar coordinates $(r,\\theta)$. The first entry of this tuple has a meaning (radial distance) that is different from the second one (angular position). Let us see some sample code that assigns a tuple to the variable `myTuple`.\n",
    "\n",
    "```python\n",
    "myTuple = (1,2,3,4,5,6,7,8,9)\n",
    "print(myTuple)\n",
    "```"
   ]
  },
  {
   "cell_type": "code",
   "execution_count": null,
   "metadata": {
    "collapsed": true
   },
   "outputs": [],
   "source": []
  },
  {
   "cell_type": "markdown",
   "metadata": {},
   "source": [
    "#### Exercise 12. Empty tuple and singleton.\n",
    "\n",
    "Create tuples with zero and one element. Make sure you actually created a tuple by checking the types of your objects."
   ]
  },
  {
   "cell_type": "code",
   "execution_count": null,
   "metadata": {
    "collapsed": false
   },
   "outputs": [],
   "source": []
  },
  {
   "cell_type": "markdown",
   "metadata": {
    "collapsed": true
   },
   "source": [
    "### Dictionaries\n",
    "\n",
    "[Dictionaries](https://docs.python.org/3.6/tutorial/datastructures.html#dictionaries) (type `dict`) are an example of unordered iterable. In practice what this means is that dictionaries don't use the same number based indexing system that we have seen in the other iterables. Instead, dictionaries can be viewed as maps that link keys to values. In order to access a particular value stored in a dictionary, we have to provide its corresponding key as an index. Hopefully, running the example below  will make this explanation redundant.\n",
    "\n",
    "```python\n",
    "myDict = {'a': 1, 'b': 2, 'c': 3}\n",
    "print(\"myDict keys: \", myDict.keys())\n",
    "print(\"myDict values: \", myDict.values())\n",
    "print(\"Value associated to key 'b': \", myDict['b'])\n",
    "```\n",
    "\n"
   ]
  },
  {
   "cell_type": "code",
   "execution_count": 10,
   "metadata": {
    "collapsed": false
   },
   "outputs": [
    {
     "name": "stdout",
     "output_type": "stream",
     "text": [
      "myDict:  {'a': 1, 'b': 2, 'c': 3}\n",
      "myDict keys:  dict_keys(['a', 'b', 'c'])\n",
      "myDict values:  dict_values([1, 2, 3])\n",
      "Value associated to key 'b':  2\n"
     ]
    }
   ],
   "source": [
    "myDict = {'a': 1, 'b': 2, 'c': 3}\n",
    "print(\"myDict: \", myDict)\n",
    "print(\"myDict keys: \", myDict.keys())\n",
    "print(\"myDict values: \", myDict.values())\n",
    "print(\"Value associated to key 'b': \", myDict['b'])"
   ]
  },
  {
   "cell_type": "markdown",
   "metadata": {},
   "source": [
    "#### Exercise 13. Trying to access a dictionary's value by index.\n",
    "\n",
    "As we have explained, dictionaries are unordered and therefore cannot be accessed by the usual range-of-numbers indexing as lists, for example. Using the ```myDict``` dictionary defined above, type myDict[0] and see what happens. \n"
   ]
  },
  {
   "cell_type": "code",
   "execution_count": null,
   "metadata": {
    "collapsed": true
   },
   "outputs": [],
   "source": []
  },
  {
   "cell_type": "markdown",
   "metadata": {},
   "source": [
    "Some quick, important facts about dictionaries. First, the keys can only be of immutable types. Thus, lists cannot be used as keys, for example. Strings, ints/floats and tuples, on the other hand, are perfectly acceptable keys. Second, as should be clear by now, dictionaries are constructed with a pair of braces; an empty pair of braces creates an empty dictionary. Third, we can always add key:value pairs by simply assigning the desired value to the new key. Again, an example should make these matters absolutely clear.   "
   ]
  },
  {
   "cell_type": "code",
   "execution_count": 12,
   "metadata": {
    "collapsed": false
   },
   "outputs": [
    {
     "name": "stdout",
     "output_type": "stream",
     "text": [
      "This is an empty dictionary:  {}\n",
      "Key 1 added. Value:  First value added\n"
     ]
    }
   ],
   "source": [
    "myEmptyDict = {}\n",
    "print(\"This is an empty dictionary: \", myEmptyDict)\n",
    "myEmptyDict[1] = \"First value added\"\n",
    "print(\"Key 1 added. Value: \", myEmptyDict[1])"
   ]
  },
  {
   "cell_type": "markdown",
   "metadata": {},
   "source": [
    "#### Exercise 14. A dictionary of ASCII characters.\n",
    "\n",
    "For quite a long time, the [ASCII](https://en.wikipedia.org/wiki/ASCII) character encoding was the standard encoding system in many platforms. In this exercise we shall create a dictionary that encodes ASCII as follows. The dictionary's keys are the strings corresponding to the 128 characters encoded by ASCII. Its values are the binary encodings corresponding to  each character. Fill the missing steps below.    "
   ]
  },
  {
   "cell_type": "code",
   "execution_count": null,
   "metadata": {
    "collapsed": true
   },
   "outputs": [],
   "source": []
  }
 ],
 "metadata": {
  "kernelspec": {
   "display_name": "Python 3",
   "language": "python",
   "name": "python3"
  },
  "language_info": {
   "codemirror_mode": {
    "name": "ipython",
    "version": 3
   },
   "file_extension": ".py",
   "mimetype": "text/x-python",
   "name": "python",
   "nbconvert_exporter": "python",
   "pygments_lexer": "ipython3",
   "version": "3.6.0"
  }
 },
 "nbformat": 4,
 "nbformat_minor": 2
}
