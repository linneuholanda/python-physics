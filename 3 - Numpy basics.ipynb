{
 "cells": [
  {
   "cell_type": "markdown",
   "metadata": {},
   "source": [
    "# Numpy Basics\n",
    "\n",
    "In this notebook we introduce the [numpy](http://www.numpy.org/) module. It is perhaps the most widely used library for scientific computing in Python. Many other libraries, like the pandas library used in data analysis, are built on top of it. \n",
    "\n",
    "Perhaps the main feature of the numpy library is the multidimensional array data structure. Contrary to lists and  other iterable types we have seen, numpy arrays were specially designed with linear algebra in mind. This means that all the usual operations from linear algebra are already implemented in numpy with performance and practicality in mind. Let us consider our first example to illustrate this.\n",
    "\n",
    "```python\n",
    "import numpy as np\n",
    "myFirstList = [1,2,3,4]\n",
    "mySecondList = [7,8,9,10]\n",
    "plusList = myFirstList + mySecondList\n",
    "myFirstNumpyArray = np.array(myFirstList)\n",
    "mySecondNumpyArray = np.array(mySecondList)\n",
    "plusNumpyArray = myFirstNumpyArray + mySecondNumpyArray\n",
    "\n",
    "print(\"Using + with lists: {} + {} = {}\".format(myFirstList, mySecondList, plusList))\n",
    "print(\"Using + with numpy arrays: {} + {} = {}\".format(myFirstNumpyArray, mySecondNumpyArray, plusNumpyArray))\n",
    "```\n",
    "\n",
    "The code above compares the use of the \"+\" operator in lists and numpy arrays. Run it in the cell below. "
   ]
  },
  {
   "cell_type": "code",
   "execution_count": 3,
   "metadata": {
    "collapsed": false
   },
   "outputs": [
    {
     "name": "stdout",
     "output_type": "stream",
     "text": [
      "Using + with lists: [1, 2, 3, 4] + [7, 8, 9, 10] = [1, 2, 3, 4, 7, 8, 9, 10]\n",
      "Using + with numpy arrays: [1 2 3 4] + [ 7  8  9 10] = [ 8 10 12 14]\n"
     ]
    }
   ],
   "source": [
    "import numpy as np\n",
    "myFirstList = [1,2,3,4]\n",
    "mySecondList = [7,8,9,10]\n",
    "plusList = myFirstList + mySecondList\n",
    "myFirstNumpyArray = np.array(myFirstList)\n",
    "mySecondNumpyArray = np.array(mySecondList)\n",
    "plusNumpyArray = myFirstNumpyArray + mySecondNumpyArray\n",
    "\n",
    "print(\"Using + with lists: {} + {} = {}\".format(myFirstList, mySecondList, plusList))\n",
    "print(\"Using + with numpy arrays: {} + {} = {}\".format(myFirstNumpyArray, mySecondNumpyArray, plusNumpyArray))"
   ]
  },
  {
   "cell_type": "markdown",
   "metadata": {},
   "source": [
    "As you saw, lists have a computer science bias. They store data, and the \"+\" operator simply means storing more stuff. The numpy array on the other hand impersonates the physicist's favorite tool: the vector. For numpy arrays, \"+\" is simply vector addition. And indeed, this reasoning goes much further. We can do to numpy arrays pretty much everything we would do to vectors and get the results we intuitively expect. The next exercises illustrate this point."
   ]
  },
  {
   "cell_type": "markdown",
   "metadata": {},
   "source": [
    "### Exercise 1. Scalar multiplication of arrays.\n",
    "Write a function that multiplies all elements of a list (aList) by a number (aNumber). Your function should return the result as a list. Implement your function without using loops."
   ]
  },
  {
   "cell_type": "code",
   "execution_count": null,
   "metadata": {
    "collapsed": true
   },
   "outputs": [],
   "source": []
  },
  {
   "cell_type": "markdown",
   "metadata": {},
   "source": [
    "### Exercise 2. Multiplying arrays.\n",
    "Just like we did with the \"+\" operator, write a function that takes two lists of same length as inputs and returns a list obtained by element-wise multiplication. Again, use numpy arrays to bypass for loops."
   ]
  },
  {
   "cell_type": "code",
   "execution_count": null,
   "metadata": {
    "collapsed": true
   },
   "outputs": [],
   "source": []
  },
  {
   "cell_type": "markdown",
   "metadata": {},
   "source": [
    "We can further demonstrate how numpy makes life easier for scientists. Suppose we want to transpose a matrix, say \n",
    "\n",
    "\\begin{equation}\n",
    "A = \\begin{bmatrix}\n",
    "1 & 2 & 3\\\\\n",
    "4 & 5 & 6\\\\\n",
    "7 & 8 & 9\\\\\n",
    "\\end{bmatrix}\n",
    "\\end{equation}\n",
    "\n",
    "Without numpy, we could do something like this.\n",
    "```python\n",
    "def transpose(aMatrix):\n",
    "    return [ [ line[j] for line in aMatrix] for j in range(len(aMatrix))]\n",
    "a = [[1,2,3], [4,5,6], [7,8,9]]\n",
    "transpose(a)\n",
    "```\n"
   ]
  },
  {
   "cell_type": "code",
   "execution_count": 4,
   "metadata": {
    "collapsed": false
   },
   "outputs": [
    {
     "data": {
      "text/plain": [
       "[[1, 4, 7], [2, 5, 8], [3, 6, 9]]"
      ]
     },
     "execution_count": 4,
     "metadata": {},
     "output_type": "execute_result"
    }
   ],
   "source": [
    "def transpose(aMatrix):\n",
    "    return [ [ line[j] for line in aMatrix] for j in range(len(aMatrix))]\n",
    "a = [[1,2,3], [4,5,6], [7,8,9]]\n",
    "transpose(a)"
   ]
  },
  {
   "cell_type": "markdown",
   "metadata": {},
   "source": [
    "There are many other ways to do this with lists in Python, of course. But we could otherwise just write\n",
    "```python\n",
    "a = np.array([[1,2,3], [4,5,6], [7,8,9]])\n",
    "a.transpose()\n",
    "```"
   ]
  },
  {
   "cell_type": "code",
   "execution_count": 5,
   "metadata": {
    "collapsed": false
   },
   "outputs": [
    {
     "data": {
      "text/plain": [
       "array([[1, 4, 7],\n",
       "       [2, 5, 8],\n",
       "       [3, 6, 9]])"
      ]
     },
     "execution_count": 5,
     "metadata": {},
     "output_type": "execute_result"
    }
   ],
   "source": [
    "a = np.array([[1,2,3], [4,5,6], [7,8,9]])\n",
    "a.transpose()"
   ]
  },
  {
   "cell_type": "markdown",
   "metadata": {},
   "source": [
    "### Exercise 3. The dot product.\n",
    "The dot (or inner) product of two vectors is found virtually everywhere in science. The usual definition in $\\mathbb{R}^n$ in terms of vector components $u = (u_0,... ,u_{n-1})$ is $u\\cdot v = \\sum_{i=0}^{n-1} u_iv_i$. This type of operation in which indices are contracted are far more general, though. As another example, the matrix product of two matrices $A = [a_{ij}]$ and $B = [b_{ij}]$ is given by $[A\\cdot B]_{ij} = \\sum_{k=0}^{n-1}a_{ik}b_{kj}$. Evidently, we assume that the number of columns in $A$ is identical to the number of lines in $B$. In what follows, implement code that computes the dot and matrix products with lists. We have also put some benchmark code to test the performance of our homemade `dot_product()` against `np.dot()`. Do the same with `matrix_product()` against `np.dot()`. Could you have predicted the shapes of the resulting curves? "
   ]
  },
  {
   "cell_type": "code",
   "execution_count": 6,
   "metadata": {
    "collapsed": false
   },
   "outputs": [
    {
     "data": {
      "image/png": "[encoded data removed]",
      "text/plain": [
       "<matplotlib.figure.Figure at 0x7fca921e86a0>"
      ]
     },
     "metadata": {},
     "output_type": "display_data"
    }
   ],
   "source": [
    "import numpy as np\n",
    "import time\n",
    "import matplotlib.pyplot as plt\n",
    "def dot_product(vector1, vector2):\n",
    "    \"\"\"\n",
    "    Returns the dot product of two vectors. The vectors are assumed to have\n",
    "    same length.\n",
    "    \n",
    "    vector1: an iterable.\n",
    "    vector2: another iterable.\n",
    "    \n",
    "    \"\"\"\n",
    "    dotProduct = 0\n",
    "    for i in range(len(vector1)):\n",
    "        dotProduct += vector1[i]*vector2[i]\n",
    "    return dotProduct\n",
    "\n",
    "def matrix_product(matrix1, matrix2):\n",
    "    \"\"\"\n",
    "    Returns the matrix product of two matrices. The number of columns in \n",
    "    matrix1 is equal to the number of lines in matrix2.\n",
    "    \n",
    "    matrix1: An iterable (for example a list of embedded lists).\n",
    "    matrix2: Another iterable like matrix1.\n",
    "    \n",
    "    \"\"\"\n",
    "    productMatrix = []\n",
    "    for line in matrix1:\n",
    "        productMatrixLine = []\n",
    "        for column in transpose(matrix2):\n",
    "            productMatrixLine.append(dot_product(line,column))\n",
    "        productMatrix.append(productMatrixLine)\n",
    "    return productMatrix\n",
    "    \n",
    "# We now time the performance of dot_product() against np.dot().\n",
    "# We sample two arrays from the random uniform distribution in [0,1),\n",
    "# with sizes ranging from 4 to 10000 in steps of 4.\n",
    "\n",
    "def benchmark(aFunction, firstArg, secondArg, numberOfTests = 1):\n",
    "    \"\"\"\n",
    "    Returns the best (that is, the least) processing time spent by a function  \n",
    "    that takes two arguments.\n",
    "    \n",
    "    aFunction: The function whose performance we are measuring.\n",
    "    firstArg: The first argument of aFunction\n",
    "    secondArg: The second argument of aFunction\n",
    "    numberOfTests: The number of times we compute \n",
    "                   aFunction(firstArg, secondArg)\n",
    "    \"\"\"\n",
    "    threeTimes = []\n",
    "    for i in range(numberOfTests):\n",
    "        start = time.time()\n",
    "        aFunction(firstArg, secondArg)\n",
    "        end = time.time()\n",
    "        threeTimes.append(end-start)\n",
    "    return min(threeTimes)\n",
    "\n",
    "\n",
    "dotProductTimes = []\n",
    "npDotTimes = []\n",
    "for size in range(10, 10000, 10):\n",
    "    array1 = np.random.uniform(size = size)\n",
    "    array2 = np.random.uniform(size = size)\n",
    "    list1 = list(array1)\n",
    "    list2 = list(array2)\n",
    "    timeDotProduct =  benchmark(dot_product, list1, list2,numberOfTests=10)\n",
    "    timeNpDot = benchmark(np.dot, array1, array2, numberOfTests=10)\n",
    "    dotProductTimes.append(timeDotProduct)\n",
    "    npDotTimes.append(timeNpDot)\n",
    "plt.plot(dotProductTimes, color = \"blue\", label = \"dot_product()\")\n",
    "plt.plot(npDotTimes, color = \"red\", label = \"np.dot()\")\n",
    "plt.title(\"Time spent computing dot products.\")\n",
    "plt.xlabel(\"vector size\")\n",
    "plt.ylabel(\"Time\")\n",
    "plt.legend()\n",
    "plt.show()"
   ]
  },
  {
   "cell_type": "markdown",
   "metadata": {},
   "source": [
    "We now briefly discuss four nice features of numpy: vectorization, broadcasting, array indexing and boolean masks. "
   ]
  },
  {
   "cell_type": "markdown",
   "metadata": {},
   "source": [
    "## Vectorization\n",
    "The numpy library was designed with support for [array programming](https://en.wikipedia.org/wiki/Array_programming) in mind. This means that numpy functions that apply to scalars can usually be used with arrays without the need of loops. Such functions are often said to be vectorized and usually result in performance gains when compared to loops. A typical example is the task of adding all the elements of an array. With a `for` loop, we would write something like\n",
    "\n",
    "\n",
    "```python\n",
    "myArray = np.random.uniform(0,1,100)\n",
    "total = 0\n",
    "for element in myArray:\n",
    "    total += element\n",
    "``` \n",
    "This can be compared with the simplicity of the `np.sum()` function:\n",
    "```python\n",
    "total = np.sum(myArray)\n",
    "```\n",
    "\n"
   ]
  },
  {
   "cell_type": "code",
   "execution_count": 7,
   "metadata": {
    "collapsed": false
   },
   "outputs": [
    {
     "data": {
      "text/plain": [
       "52.847446814626224"
      ]
     },
     "execution_count": 7,
     "metadata": {},
     "output_type": "execute_result"
    }
   ],
   "source": [
    "myArray = np.random.uniform(0,1,100)\n",
    "total = 0\n",
    "for element in myArray:\n",
    "    total += element\n",
    "total"
   ]
  },
  {
   "cell_type": "code",
   "execution_count": 8,
   "metadata": {
    "collapsed": false
   },
   "outputs": [
    {
     "data": {
      "text/plain": [
       "52.847446814626245"
      ]
     },
     "execution_count": 8,
     "metadata": {},
     "output_type": "execute_result"
    }
   ],
   "source": [
    "total = np.sum(myArray)\n",
    "total"
   ]
  },
  {
   "cell_type": "markdown",
   "metadata": {},
   "source": [
    "As we have discussed in the beginning of this notebook, all familiar operations like `+`, `*`, `/`, `//`, `**` are vectorized in numpy. But that is not all. Most (if not all) [mathematical functions](https://docs.scipy.org/doc/numpy/reference/routines.math.html) in numpy are. The general process of vectorization works as \n",
    "\\begin{equation}\n",
    "f\\big ((v_1,...,v_n)\\big ) = \\big (f(v_1),..., f(v_n) \\big).\n",
    "\\end{equation}\n",
    "Therefore, we compute the cosines of all elements in an array with\n",
    "```python\n",
    "angles = np.linspace(0,2*np.pi, 7)\n",
    "cosines = np.cos(angles)\n",
    "print(\"angles: \", angles)\n",
    "print(\"cosines: \", cosines)\n",
    "```\n"
   ]
  },
  {
   "cell_type": "code",
   "execution_count": 9,
   "metadata": {
    "collapsed": false
   },
   "outputs": [
    {
     "name": "stdout",
     "output_type": "stream",
     "text": [
      "angles: \n",
      " [ 0.          1.04719755  2.0943951   3.14159265  4.1887902   5.23598776\n",
      "  6.28318531]\n",
      "cosines: \n",
      " [ 1.   0.5 -0.5 -1.  -0.5  0.5  1. ]\n"
     ]
    }
   ],
   "source": [
    "angles = np.linspace(0,2*np.pi, 7)\n",
    "cosines = np.cos(angles)\n",
    "print(\"angles: \\n\", angles)\n",
    "print(\"cosines: \\n\", cosines)"
   ]
  },
  {
   "cell_type": "markdown",
   "metadata": {},
   "source": [
    "Often the functions we want to apply to arrays are functions we ourselves create. These are not vectorized by nature. The good news is that numpy has a commodity function `np.vectorize()` that vectorizes other functions. It works like this.\n",
    "```python\n",
    "myVectorizedFunction = np.vectorize(myFunction)\n",
    "```\n",
    "Together with python's [lambda]() expressions for defining anonymous functions, it can save us lines of code.  \n",
    "As an example, the two pieces of code below are equivalent.\n",
    "```python\n",
    "def myFunction(x):\n",
    "    return x+3\n",
    "myVectorizedFunction = np.vectorize(myFunction)\n",
    "myArray = np.linspace(0,10,11)\n",
    "result = myVectorizedFunction(myArray)\n",
    "print(\"Result with standard function definition: \", result)\n",
    "```\n",
    "is equivalent to\n",
    "\n",
    "```python\n",
    "myArray = np.linspace(0,10,11)\n",
    "myVectorizedFunction = np.vectorize(lambda x: x + 3)\n",
    "result = myVectorizedFunction(myArray)\n",
    "print(\"Result with lambda expression: \", result)\n",
    "```\n"
   ]
  },
  {
   "cell_type": "code",
   "execution_count": 10,
   "metadata": {
    "collapsed": false
   },
   "outputs": [
    {
     "name": "stdout",
     "output_type": "stream",
     "text": [
      "Result with standard function definition: \n",
      " [  3.   4.   5.   6.   7.   8.   9.  10.  11.  12.  13.]\n"
     ]
    }
   ],
   "source": [
    "def myFunction(x):\n",
    "    return x+3\n",
    "myVectorizedFunction = np.vectorize(myFunction)\n",
    "myArray = np.linspace(0,10,11)\n",
    "result = myVectorizedFunction(myArray)\n",
    "print(\"Result with standard function definition: \\n\", result)"
   ]
  },
  {
   "cell_type": "code",
   "execution_count": 11,
   "metadata": {
    "collapsed": false
   },
   "outputs": [
    {
     "name": "stdout",
     "output_type": "stream",
     "text": [
      "Result with lambda expression: \n",
      " [  3.   4.   5.   6.   7.   8.   9.  10.  11.  12.  13.]\n"
     ]
    }
   ],
   "source": [
    "myArray = np.linspace(0,10,11)\n",
    "myVectorizedFunction = np.vectorize(lambda x: x + 3)\n",
    "result = myVectorizedFunction(myArray)\n",
    "print(\"Result with lambda expression: \\n\", result)"
   ]
  },
  {
   "cell_type": "markdown",
   "metadata": {},
   "source": [
    "### Exercise 4. The Lie exponential.\n",
    "\n",
    "In this exercise we use numpy arrays' vectorization capabilities to compute [exponentials of matrices][1]. Given a matrix $X$, its exponential is given  \n",
    "[1]: https://en.wikipedia.org/wiki/Exponential_map_(Lie_theory) \n"
   ]
  },
  {
   "cell_type": "markdown",
   "metadata": {},
   "source": [
    "## Broadcasting\n",
    "A particularly useful feature of numpy arrays is [broadcasting](https://docs.scipy.org/doc/numpy/user/basics.broadcasting.html). This is the capacity of numpy to operate with arrays of different dimensions. As a first example, how would we add the same number to all entries of an array?\n",
    "\n",
    "```python\n",
    "myArray = np.array([1,2,3])\n",
    "myInt = 10\n",
    "myNewArray = myArray + myInt\n",
    "print(myNewArray)\n",
    "```"
   ]
  },
  {
   "cell_type": "code",
   "execution_count": 12,
   "metadata": {
    "collapsed": false
   },
   "outputs": [
    {
     "name": "stdout",
     "output_type": "stream",
     "text": [
      "myArray:  [1 2 3]\n",
      "myInt:  10\n",
      "myNewArray = myArray + myInt:  [11 12 13]\n"
     ]
    }
   ],
   "source": [
    "myArray = np.array([1,2,3])\n",
    "myInt = 10\n",
    "myNewArray = myArray + myInt\n",
    "print(\"myArray: \", myArray)\n",
    "print(\"myInt: \", myInt)\n",
    "print(\"myNewArray = myArray + myInt: \", myNewArray)"
   ]
  },
  {
   "cell_type": "markdown",
   "metadata": {
    "collapsed": true
   },
   "source": [
    "Numpy therefore understands our intention here: by adding a number to an array, we mean adding this number to all entries in the array. We thus optimize our code by avoiding iterating over it.  Let us consider a second example.\n",
    "\n",
    "```python\n",
    "array1 = np.array([[1,2,3],[4,5,6]])\n",
    "array2 = np.array([10,20,30])\n",
    "mySum = array1 + array2\n",
    "print(\"array1: \", array1)\n",
    "print(\"array2: \", array2)\n",
    "print(\"mySum = array1 + array2 \", mySum)\n",
    "\n",
    "```\n"
   ]
  },
  {
   "cell_type": "code",
   "execution_count": 13,
   "metadata": {
    "collapsed": false
   },
   "outputs": [
    {
     "name": "stdout",
     "output_type": "stream",
     "text": [
      "array1: \n",
      " [[1 2 3]\n",
      " [4 5 6]]\n",
      "array2: \n",
      " [10 20 30]\n",
      "mySum = array1 + array2: \n",
      " [[11 22 33]\n",
      " [14 25 36]]\n"
     ]
    }
   ],
   "source": [
    "array1 = np.array([[1,2,3], [4,5,6]])\n",
    "array2 = np.array([10,20,30])\n",
    "mySum = array1 + array2\n",
    "print(\"array1: \\n\", array1)\n",
    "print(\"array2: \\n\", array2)\n",
    "print(\"mySum = array1 + array2: \\n\", mySum)"
   ]
  },
  {
   "cell_type": "markdown",
   "metadata": {},
   "source": [
    "Again, we are operating on arrays of different shapes (`array1` is (2,1), while `array2` is (1,)). This is no problem to numpy, since it understands that the first dimension in `array1` is equal to the first (and single) dimension in `array2`: both are 3. Now let us see an example of two arrays that cannot be broadcast together. If you run the code below, you should read an error message.\n",
    "```python\n",
    "array1 = np.array([[1,2,3],[4,5,6]])\n",
    "array3 = np.array([10,20])\n",
    "mySum = array1 + array3\n",
    "```\n"
   ]
  },
  {
   "cell_type": "code",
   "execution_count": 14,
   "metadata": {
    "collapsed": false
   },
   "outputs": [
    {
     "ename": "ValueError",
     "evalue": "operands could not be broadcast together with shapes (2,3) (2,) ",
     "output_type": "error",
     "traceback": [
      "\u001b[0;31m---------------------------------------------------------------------------\u001b[0m",
      "\u001b[0;31mValueError\u001b[0m                                Traceback (most recent call last)",
      "\u001b[0;32m<ipython-input-14-5e26da4325de>\u001b[0m in \u001b[0;36m<module>\u001b[0;34m()\u001b[0m\n\u001b[1;32m      1\u001b[0m \u001b[0marray1\u001b[0m \u001b[0;34m=\u001b[0m \u001b[0mnp\u001b[0m\u001b[0;34m.\u001b[0m\u001b[0marray\u001b[0m\u001b[0;34m(\u001b[0m\u001b[0;34m[\u001b[0m\u001b[0;34m[\u001b[0m\u001b[0;36m1\u001b[0m\u001b[0;34m,\u001b[0m\u001b[0;36m2\u001b[0m\u001b[0;34m,\u001b[0m\u001b[0;36m3\u001b[0m\u001b[0;34m]\u001b[0m\u001b[0;34m,\u001b[0m\u001b[0;34m[\u001b[0m\u001b[0;36m4\u001b[0m\u001b[0;34m,\u001b[0m\u001b[0;36m5\u001b[0m\u001b[0;34m,\u001b[0m\u001b[0;36m6\u001b[0m\u001b[0;34m]\u001b[0m\u001b[0;34m]\u001b[0m\u001b[0;34m)\u001b[0m\u001b[0;34m\u001b[0m\u001b[0m\n\u001b[1;32m      2\u001b[0m \u001b[0marray3\u001b[0m \u001b[0;34m=\u001b[0m \u001b[0mnp\u001b[0m\u001b[0;34m.\u001b[0m\u001b[0marray\u001b[0m\u001b[0;34m(\u001b[0m\u001b[0;34m[\u001b[0m\u001b[0;36m10\u001b[0m\u001b[0;34m,\u001b[0m\u001b[0;36m20\u001b[0m\u001b[0;34m]\u001b[0m\u001b[0;34m)\u001b[0m\u001b[0;34m\u001b[0m\u001b[0m\n\u001b[0;32m----> 3\u001b[0;31m \u001b[0mmySum\u001b[0m \u001b[0;34m=\u001b[0m \u001b[0marray1\u001b[0m \u001b[0;34m+\u001b[0m \u001b[0marray3\u001b[0m\u001b[0;34m\u001b[0m\u001b[0m\n\u001b[0m",
      "\u001b[0;31mValueError\u001b[0m: operands could not be broadcast together with shapes (2,3) (2,) "
     ]
    }
   ],
   "source": [
    "array1 = np.array([[1,2,3],[4,5,6]])\n",
    "array3 = np.array([10,20])\n",
    "mySum = array1 + array3\n"
   ]
  },
  {
   "cell_type": "markdown",
   "metadata": {},
   "source": [
    "We see that numpy considers `array3` as a line vector with two components. Since `array1` can be seen as a 2X3 matrix, each line in `array1` has three components. So we see what the problem is: we cannot add vectors with two components to vectors with three components. Pretty intuitive. But what if I wanted to add `array3` to `array1` column-wise? Could we just transpose `array3` and achieve that? Let us test it.\n",
    "\n",
    "```python\n",
    "mySum = array1 + np.transpose(array3)\n",
    "\n",
    "```\n",
    "\n"
   ]
  },
  {
   "cell_type": "code",
   "execution_count": null,
   "metadata": {
    "collapsed": true
   },
   "outputs": [],
   "source": [
    "mySum = array1 + np.transpose(array3)"
   ]
  },
  {
   "cell_type": "markdown",
   "metadata": {},
   "source": [
    "No deal again! In order two operate on two arrays, it is required that they have compatible dimensions. From the [documentation](https://docs.scipy.org/doc/numpy/user/basics.broadcasting.html#general-broadcasting-rules), two dimensions are compatible when\n",
    "\n",
    "   1. they are equal, or\n",
    "   2. one of them is 1.\n",
    "\n",
    "We can understand what this means by checking the `shape` attribute of arrays `array1`, `array2` and `array3`. Let's do this.\n",
    "\n",
    "```python\n",
    "print(\"array1: \", array1, \"Shape of array1: \", array1.shape)\n",
    "print(\"array2: \", array2, \"Shape of array2: \", array2.shape)\n",
    "print(\"array3: \", array3, \"Shape of array3: \", array3.shape)\n",
    "```\n",
    " "
   ]
  },
  {
   "cell_type": "code",
   "execution_count": null,
   "metadata": {
    "collapsed": true
   },
   "outputs": [],
   "source": [
    "print(\"array1: \\n\", array1) \n",
    "print(\"array2: \\n\", array2) \n",
    "print(\"array3: \\n\", array3) \n",
    "print(\"\\n\")\n",
    "print(\"Shape of array1: \", array1.shape)\n",
    "print(\"Shape of array2: \", array2.shape)\n",
    "print(\"Shape of array3: \", array3.shape)"
   ]
  },
  {
   "cell_type": "markdown",
   "metadata": {},
   "source": [
    "By the second rule, if the shape of array3 were (2,1), we should be able to add array3 to array1. Let's try to do this.\n",
    "\n",
    "```python\n",
    "array3.shape = (2,1)\n",
    "print(\"array3: \", array3)\n",
    "mySum = array1 + array3\n",
    "print(\"mySum: \", mySum)\n",
    "```"
   ]
  },
  {
   "cell_type": "code",
   "execution_count": null,
   "metadata": {
    "collapsed": true
   },
   "outputs": [],
   "source": []
  },
  {
   "cell_type": "markdown",
   "metadata": {},
   "source": [
    "### Exercise 4. Create the following arrays in numpy and guess their shape. \n",
    "You can always check your answer using the shape attribute. \n",
    "\\begin{equation}\n",
    "A = \\begin{bmatrix}\n",
    "\\begin{bmatrix}\n",
    "1 & 2\\\\\n",
    "3 & 4\n",
    "\\end{bmatrix} & \\begin{bmatrix}\n",
    "5 & 6\\\\\n",
    "7 & 8\n",
    "\\end{bmatrix}\n",
    "\\end{bmatrix}\n",
    "\\end{equation}\n",
    "\n",
    "\\begin{equation}\n",
    "B = \\begin{bmatrix}\n",
    "\\begin{bmatrix}\n",
    "1 & 2\\\\\n",
    "3 & 4\n",
    "\\end{bmatrix} & \\begin{bmatrix}\n",
    "5 & 6\\\\\n",
    "7 & 8\n",
    "\\end{bmatrix}\\\\\n",
    "\\begin{bmatrix}\n",
    "11 & 12\\\\\n",
    "13 & 14\n",
    "\\end{bmatrix} & \\begin{bmatrix}\n",
    "15 & 16\\\\\n",
    "17 & 18\n",
    "\\end{bmatrix}\n",
    "\\end{bmatrix}\n",
    "\\end{equation}\n",
    "\n",
    "\\begin{equation}\n",
    "C = \\begin{bmatrix}\n",
    "\\begin{bmatrix}\n",
    "1 \\\\\n",
    "3 \n",
    "\\end{bmatrix} & \\begin{bmatrix}\n",
    "2 \\\\\n",
    "4 \n",
    "\\end{bmatrix} & \\begin{bmatrix}\n",
    "5 \\\\\n",
    "7 \n",
    "\\end{bmatrix} & \\begin{bmatrix}\n",
    "6 \\\\\n",
    "8 \n",
    "\\end{bmatrix}\n",
    "\\end{bmatrix}\n",
    "\\end{equation}\n",
    "\n",
    "\\begin{equation}\n",
    "D = \\begin{bmatrix}\n",
    "\\begin{bmatrix}\n",
    "1 \\\\\n",
    "3 \n",
    "\\end{bmatrix} & \\begin{bmatrix}\n",
    "2 \\\\\n",
    "4 \n",
    "\\end{bmatrix} & \\begin{bmatrix}\n",
    "5 \\\\\n",
    "7 \n",
    "\\end{bmatrix} &  \\begin{bmatrix}\n",
    "6 \\\\\n",
    "8 \n",
    "\\end{bmatrix} \\\\\n",
    "\\begin{bmatrix}\n",
    "11\\\\\n",
    "13\n",
    "\\end{bmatrix} & \\begin{bmatrix}\n",
    "12\\\\\n",
    "14\n",
    "\\end{bmatrix} & \\begin{bmatrix}\n",
    "15\\\\\n",
    "17\n",
    "\\end{bmatrix} & \\begin{bmatrix}\n",
    "16\\\\\n",
    "18\n",
    "\\end{bmatrix}\n",
    "\\end{bmatrix}\n",
    "\\end{equation}"
   ]
  },
  {
   "cell_type": "code",
   "execution_count": 15,
   "metadata": {
    "collapsed": false
   },
   "outputs": [
    {
     "data": {
      "text/plain": [
       "(2, 2, 2)"
      ]
     },
     "execution_count": 15,
     "metadata": {},
     "output_type": "execute_result"
    }
   ],
   "source": [
    "A = np.array([ [ [1,2], [3,4] ], [ [5,6], [7,8] ] ])\n",
    "A.shape"
   ]
  },
  {
   "cell_type": "markdown",
   "metadata": {},
   "source": [
    "### Exercise 5.  Broadcasting the arrays from exercise 4.\n",
    "If you created the arrays from exercise 4 correctly, it should be possible to broadcast $A$ to the shape of $B$ and $C$ to the shape of $D$. So numpy should be able to compute $B - A$ and $D - C$ for example. Perform these operations. Does the result agree with our intuition?"
   ]
  },
  {
   "cell_type": "code",
   "execution_count": null,
   "metadata": {
    "collapsed": true
   },
   "outputs": [],
   "source": []
  },
  {
   "cell_type": "markdown",
   "metadata": {},
   "source": [
    "## Array indexing\n",
    "\n",
    "We often want to acces elements inside an array, be it for referencing or assignment. Numpy gives us several ways to achieve this. Before we actually get to array indexing, let us quickly review [indexing](https://docs.scipy.org/doc/numpy/user/basics.indexing.html#indexing) in numpy.   The canonical way to access an element of an array by index is just to pass the element's indices separated by commas between square brackets. So for example, if we want to access the number 3 in the matrix $A$ below to change it to 9,\n",
    "\\begin{equation}\n",
    "A = \\begin{bmatrix}\n",
    "1 & 2\\\\\n",
    "3 & 4\\\\\n",
    "\\end{bmatrix}\n",
    "\\end{equation}\n",
    "we just type\n",
    "\n",
    "```python\n",
    "A = np.array([[1,2], [3,4]])\n",
    "print(\"A before change: \", A)\n",
    "A[1,0] = 9\n",
    "print(\"A after change: \", A)\n",
    "```\n"
   ]
  },
  {
   "cell_type": "code",
   "execution_count": 16,
   "metadata": {
    "collapsed": false
   },
   "outputs": [
    {
     "name": "stdout",
     "output_type": "stream",
     "text": [
      "A before change: \n",
      " [[1 2]\n",
      " [3 4]]\n",
      "A after change: \n",
      " [[1 2]\n",
      " [9 4]]\n"
     ]
    }
   ],
   "source": [
    "A = np.array([[1,2], [3,4]])\n",
    "print(\"A before change: \\n\", A)\n",
    "A[1,0] = 9\n",
    "print(\"A after change: \\n\", A)"
   ]
  },
  {
   "cell_type": "markdown",
   "metadata": {},
   "source": [
    "### Exercise 6. Find the number 5.\n",
    "Find the number 5 in each of the arrays in exercise 4. Change it to 42."
   ]
  },
  {
   "cell_type": "code",
   "execution_count": null,
   "metadata": {
    "collapsed": true
   },
   "outputs": [],
   "source": []
  },
  {
   "cell_type": "markdown",
   "metadata": {},
   "source": [
    "Numpy also supports slicing, a feature we already saw when studying lists. This allows us to capture many elements of an array without having to write their indices explicitly. Consider the array below.\n",
    "\n",
    "\\begin{equation}\n",
    "A = \\begin{bmatrix}\n",
    "1 & 2& 3 &4\\\\\n",
    "5 & 6 & 7 &8\\\\\n",
    "9 & 10 & 11 &12\\\\\n",
    "13 & 14 &15 &16\\\\\n",
    "\\end{bmatrix}\n",
    "\\end{equation}\n",
    "\n",
    "Suppose we wanted to capture just a block of A, namely\n",
    "\\begin{equation}\n",
    "B = \\begin{bmatrix}\n",
    "1 & 2\\\\\n",
    "5 & 6\\\\\n",
    "\\end{bmatrix}\n",
    "\\end{equation}\n",
    "We can easily do this with slicing.\n",
    "\n",
    "```python\n",
    "A = np.arange(1,17).reshape(4,4)\n",
    "B = A[0:2,0:2]\n",
    "print('A: \\n', A)\n",
    "print('B: \\n', B)\n",
    "```"
   ]
  },
  {
   "cell_type": "code",
   "execution_count": 27,
   "metadata": {
    "collapsed": false
   },
   "outputs": [
    {
     "name": "stdout",
     "output_type": "stream",
     "text": [
      "A: \n",
      " [[ 1  2  3  4]\n",
      " [ 5  6  7  8]\n",
      " [ 9 10 11 12]\n",
      " [13 14 15 16]]\n",
      "B: \n",
      " [[1 2]\n",
      " [5 6]]\n"
     ]
    }
   ],
   "source": [
    "A = np.arange(1,17).reshape(4,4)\n",
    "B = A[0:2,0:2]\n",
    "print('A: \\n', A)\n",
    "print('B: \\n', B)"
   ]
  },
  {
   "cell_type": "markdown",
   "metadata": {},
   "source": [
    "Note that, just as with lists, the lower limit of a slice is inclusive, while the upper limit is exclusive. None of this is new, since lists also have these capabilities. Let us introduce then array indexing, a feature of numpy that lists don't have. We consider the following example. We are given a one dimensional array of size ten and we want to extract the elements at positions 3 and 7. We can do the following.\n",
    "```python\n",
    "myArray = np.arange(1,11)\n",
    "indexArray = np.array([3,7])\n",
    "newArray = myArray[indexArray]\n",
    "print(\"myArray: \", myArray)\n",
    "print(\"newArray: \", newArray)\n",
    "\n",
    "```\n"
   ]
  },
  {
   "cell_type": "code",
   "execution_count": 33,
   "metadata": {
    "collapsed": false
   },
   "outputs": [
    {
     "name": "stdout",
     "output_type": "stream",
     "text": [
      "myArray:  [ 1  2  3  4  5  6  7  8  9 10]\n",
      "newArray:  [4 8]\n"
     ]
    }
   ],
   "source": [
    "myArray = np.arange(1,11)\n",
    "indexArray = np.array([3,7])\n",
    "newArray = myArray[indexArray]\n",
    "print(\"myArray: \", myArray)\n",
    "print(\"newArray: \", newArray)\n"
   ]
  },
  {
   "cell_type": "markdown",
   "metadata": {},
   "source": [
    "Note that we have used an array (`indexArray`) as an index to another (`myArray`). The name \"array indexing\" is thus quite literal.  Indexing arrays with other arrays can be quite useful as the exercise below shows. "
   ]
  },
  {
   "cell_type": "markdown",
   "metadata": {},
   "source": [
    "### Exercise 7. Logarithmically spaced samples.\n",
    "\n",
    "You are given a large one dimensional array whose values increase linearly with the array index. You want to take a sample from this array that is (approximatelly) logarithmicaly spaced. Code the function below that fulfills this task."
   ]
  },
  {
   "cell_type": "code",
   "execution_count": null,
   "metadata": {
    "collapsed": true
   },
   "outputs": [],
   "source": []
  },
  {
   "cell_type": "markdown",
   "metadata": {},
   "source": [
    "## Boolean masks\n",
    "\n",
    "Numpy has a very powerful indexing tool based on boolean arrays called [boolean mask](https://docs.scipy.org/doc/numpy/user/basics.indexing.html#boolean-or-mask-index-arrays). It is similar to vectorization, but now it is a boolean operator that is being vectorized. Assume we have a boolean function $b(x)$ that evaluates to True or False. The vectorization process then yields\n",
    "\\begin{equation}\n",
    "b(v_1, ..., v_n) = \\big(b(v_1),..., b(v_n)  \\big)\n",
    "\\end{equation}\n",
    "Thus, we get as a result a boolean array with entries equal to true wherever $b$ evaluates to True in the given array, and False otherwise. As a simple example, run the code below.\n",
    "\n",
    "```python\n",
    "myArray = np.array([1,2,3,4,5])\n",
    "myBooleanArray = myArray > 3\n",
    "print(\"myArray: \", myArray)\n",
    "print(\"myBooleanArray: \", myBooleanArray)\n",
    "\n",
    "```"
   ]
  },
  {
   "cell_type": "code",
   "execution_count": 18,
   "metadata": {
    "collapsed": false
   },
   "outputs": [
    {
     "name": "stdout",
     "output_type": "stream",
     "text": [
      "myArray:  [1 2 3 4 5]\n",
      "myBooleanArray:  [False False False  True  True]\n"
     ]
    }
   ],
   "source": [
    "myArray = np.array([1,2,3,4,5])\n",
    "myBooleanArray = myArray > 3\n",
    "print(\"myArray: \", myArray)\n",
    "print(\"myBooleanArray: \", myBooleanArray)"
   ]
  },
  {
   "cell_type": "markdown",
   "metadata": {
    "collapsed": true
   },
   "source": [
    "### Exercise 6. Find the even elements of an array.\n",
    "Write a function that takes an integer array as input and returns a boolean array that tells us where its even elements are. \n"
   ]
  },
  {
   "cell_type": "code",
   "execution_count": null,
   "metadata": {
    "collapsed": true
   },
   "outputs": [],
   "source": []
  },
  {
   "cell_type": "markdown",
   "metadata": {},
   "source": [
    "The beautiful thing about boolean arrays is that they can be used for indexing. If we pass a boolean array as an index to a given array of same shape, the result is a new array consisting only of the elements where the boolean array is True.  This is what we call a boolean mask. Using our previous example, let us create a new array from `myArray` applying the boolean mask `myBooleanArray`. \n",
    "\n",
    "```python\n",
    "newArray = myArray[myBooleanArray]\n",
    "print(\"newArray: \", newArray)\n",
    "```"
   ]
  },
  {
   "cell_type": "code",
   "execution_count": 21,
   "metadata": {
    "collapsed": false
   },
   "outputs": [
    {
     "name": "stdout",
     "output_type": "stream",
     "text": [
      "newArray:  [4 5]\n"
     ]
    }
   ],
   "source": [
    "newArray = myArray[myBooleanArray]\n",
    "print(\"newArray: \", newArray)"
   ]
  },
  {
   "cell_type": "markdown",
   "metadata": {},
   "source": [
    "We may thus see the process of boolean masking as creating filters that we put over arrays so that only entries satisfying the filter's conditions pass through. \n",
    "\n",
    "That first example was pretty straightforward and intuitive. Both the array being indexed (myArray) and our boolean mask (myBooleanArray) had shape $(5,)$. We would expect that the resulting array should have shape $(n,)$, with $n \\leq 5$. Actually, whenever the indexed array and the boolean array have the same shape, the result of a boolean mask will be a [row-major](https://docs.scipy.org/doc/numpy/glossary.html#term-row-major) ordered array of shape $(n,)$. As another example, consider the following code.\n",
    "\n",
    "```python\n",
    "myArray = np.array([[5,2], [3,4]])\n",
    "myBooleanArray = np.array(myArray > 3)\n",
    "print(\"myArray: \", myArray)\n",
    "print(\"myBooleanArray: \", myBooleanArray)\n",
    "\n",
    "``` "
   ]
  },
  {
   "cell_type": "code",
   "execution_count": 22,
   "metadata": {
    "collapsed": false
   },
   "outputs": [
    {
     "name": "stdout",
     "output_type": "stream",
     "text": [
      "myArray:  [[5 2]\n",
      " [3 4]]\n",
      "myBooleanArray:  [[ True False]\n",
      " [False  True]]\n"
     ]
    }
   ],
   "source": [
    "myArray = np.array([[5,2], [3,4]])\n",
    "myBooleanArray = np.array(myArray > 3)\n",
    "print(\"myArray: \", myArray)\n",
    "print(\"myBooleanArray: \", myBooleanArray)"
   ]
  },
  {
   "cell_type": "markdown",
   "metadata": {
    "collapsed": true
   },
   "source": [
    "In this case both arrays have shape $(2,2)$. By inspection of our boolean array we should expect an array of shape $(2,)$ after boolean masking `myArray`. This is indeed the case.\n",
    "\n",
    "```python\n",
    "newArray = myArray[myBooleanArray]\n",
    "print(\"newArray: \", newArray)\n",
    "print(\"shape: \", newArray.shape)\n",
    "```\n",
    "\n"
   ]
  },
  {
   "cell_type": "code",
   "execution_count": 24,
   "metadata": {
    "collapsed": false
   },
   "outputs": [
    {
     "name": "stdout",
     "output_type": "stream",
     "text": [
      "newArray:  [5 4]\n",
      "shape:  (2,)\n"
     ]
    }
   ],
   "source": [
    "newArray = myArray[myBooleanArray]\n",
    "print(\"newArray: \", newArray)\n",
    "print(\"shape: \", newArray.shape)\n"
   ]
  },
  {
   "cell_type": "markdown",
   "metadata": {},
   "source": [
    "Now we are led to consider the following question. What if the boolean array has a different shape than the indexed array? In this case, we  expect that something similar to numpy's broadcasting rules would apply. Let us examine another example.\n",
    "\n",
    "```python\n",
    "myArray = np.array([[5,2], [3,4]])\n",
    "myBooleanArray = np.array([True, False])\n",
    "newArray = myArray[myBooleanArray]\n",
    "print(\"myArray: \", myArray)\n",
    "print(\"myBooleanArray: \", myBooleanArray)\n",
    "print(\"newArray: \", newArray)\n",
    "print(\"\\n\")\n",
    "print(\"shape of myArray: \", myArray.shape)\n",
    "print(\"shape of myBooleanArray: \", myBooleanArray.shape)\n",
    "print(\"shape of newArray: \", newArray.shape)\n",
    "```"
   ]
  },
  {
   "cell_type": "code",
   "execution_count": 33,
   "metadata": {
    "collapsed": false
   },
   "outputs": [
    {
     "name": "stdout",
     "output_type": "stream",
     "text": [
      "myArray:  [[5 2]\n",
      " [3 4]]\n",
      "myBooleanArray:  [ True False]\n",
      "newArray:  [[5 2]]\n",
      "\n",
      "\n",
      "shape of myArray:  (2, 2)\n",
      "shape of myBooleanArray:  (2,)\n",
      "shape of newArray:  (1, 2)\n"
     ]
    }
   ],
   "source": [
    "myArray = np.array([[5,2], [3,4]])\n",
    "myBooleanArray = np.array([True, False])\n",
    "newArray = myArray[myBooleanArray]\n",
    "print(\"myArray: \", myArray)\n",
    "print(\"myBooleanArray: \", myBooleanArray)\n",
    "print(\"newArray: \", newArray)\n",
    "print(\"\\n\")\n",
    "print(\"shape of myArray: \", myArray.shape)\n",
    "print(\"shape of myBooleanArray: \", myBooleanArray.shape)\n",
    "print(\"shape of newArray: \", newArray.shape)\n"
   ]
  },
  {
   "cell_type": "code",
   "execution_count": 34,
   "metadata": {
    "collapsed": false
   },
   "outputs": [
    {
     "name": "stdout",
     "output_type": "stream",
     "text": [
      "myArray:  [[5 2]\n",
      " [3 4]]\n",
      "myBooleanArray:  [ True]\n",
      "newArray:  [[5 2]]\n",
      "\n",
      "\n",
      "shape of myArray:  (2, 2)\n",
      "shape of myBooleanArray:  (1,)\n",
      "shape of newArray:  (1, 2)\n"
     ]
    },
    {
     "name": "stderr",
     "output_type": "stream",
     "text": [
      "/home/linneu/anaconda3/lib/python3.6/site-packages/ipykernel/__main__.py:3: VisibleDeprecationWarning: boolean index did not match indexed array along dimension 0; dimension is 2 but corresponding boolean dimension is 1\n",
      "  app.launch_new_instance()\n"
     ]
    }
   ],
   "source": [
    "myBooleanArray = np.array([True])\n",
    "myArray = np.array([[5,2], [3,4]])\n",
    "newArray = myArray[myBooleanArray]\n",
    "print(\"myArray: \", myArray)\n",
    "print(\"myBooleanArray: \", myBooleanArray)\n",
    "print(\"newArray: \", newArray)\n",
    "print(\"\\n\")\n",
    "print(\"shape of myArray: \", myArray.shape)\n",
    "print(\"shape of myBooleanArray: \", myBooleanArray.shape)\n",
    "print(\"shape of newArray: \", newArray.shape)\n"
   ]
  },
  {
   "cell_type": "code",
   "execution_count": 35,
   "metadata": {
    "collapsed": false
   },
   "outputs": [
    {
     "data": {
      "text/plain": [
       "(1,)"
      ]
     },
     "execution_count": 35,
     "metadata": {},
     "output_type": "execute_result"
    }
   ],
   "source": [
    "a = np.array([1])\n",
    "a.shape"
   ]
  },
  {
   "cell_type": "code",
   "execution_count": 36,
   "metadata": {
    "collapsed": false
   },
   "outputs": [
    {
     "data": {
      "text/plain": [
       "array([[6, 3],\n",
       "       [4, 5]])"
      ]
     },
     "execution_count": 36,
     "metadata": {},
     "output_type": "execute_result"
    }
   ],
   "source": [
    "a + myArray"
   ]
  },
  {
   "cell_type": "code",
   "execution_count": null,
   "metadata": {
    "collapsed": true
   },
   "outputs": [],
   "source": []
  }
 ],
 "metadata": {
  "kernelspec": {
   "display_name": "Python 3",
   "language": "python",
   "name": "python3"
  },
  "language_info": {
   "codemirror_mode": {
    "name": "ipython",
    "version": 3
   },
   "file_extension": ".py",
   "mimetype": "text/x-python",
   "name": "python",
   "nbconvert_exporter": "python",
   "pygments_lexer": "ipython3",
   "version": "3.6.0"
  }
 },
 "nbformat": 4,
 "nbformat_minor": 2
}
