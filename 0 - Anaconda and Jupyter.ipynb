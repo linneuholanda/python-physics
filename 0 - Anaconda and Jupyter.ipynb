{
 "cells": [
  {
   "cell_type": "markdown",
   "metadata": {},
   "source": [
    "# A crash course in Python\n",
    "\n",
    "This very brief introduction to Python is designed as an overview of the Python modules that we shall use in this course. A Python module can be seen as a toolcase providing functionality to solve a specific class of problems. Thus, the math module includes mathematical functions commonly used in science and engineering. Similarly, the random module provides methods for generating pseudorandom numbers.  \n",
    "\n",
    "In this first part of the course, the following Python modules will be introduced:\n",
    "\n",
    "1. Core Python\n",
    "2. Math\n",
    "3. Random\n",
    "4. Numpy\n",
    "5. Matplotlib.pyplot\n",
    "\n",
    "The first module is just the Python language as is. It provides basic functionality to implement general purpose algorithms. On the other hand, the last two modules are of particular interest for scientists and engineers. The numpy module includes all kinds of mathematical functions and devices implemented in a numerically efficient way. It will be our preferred tool  for numerical analysis. The Matplotlib.pyplot module provides MATLAB-like functions for paper quality plots. It should be noted that we structured this document in this way for purely pedagogical reasons, with the aim to get you programming on the fly. \n",
    "\n",
    "Another important point to be made is that we will be using python 3 in these lectures. While it is not our purpose here to discuss where python 3 is not backwards compatible with python 2, you should be aware that code written in one version of python will not necessarily work the way it would in another version. Therefore, to make sure that you are fully compatible with all the technical specifications of this course, we strongly recommend you to download and install the Anaconda distribution of python. In what follows, we guide you through the installation process.\n",
    "\n",
    "## 1. Installing and running Anaconda\n",
    "\n",
    "Go to the the Anaconda webpage, https://www.continuum.io/downloads.\n",
    "\n"
   ]
  },
  {
   "cell_type": "markdown",
   "metadata": {},
   "source": []
  },
  {
   "cell_type": "code",
   "execution_count": null,
   "metadata": {
    "collapsed": true
   },
   "outputs": [],
   "source": []
  }
 ],
 "metadata": {
  "kernelspec": {
   "display_name": "Python 3",
   "language": "python",
   "name": "python3"
  },
  "language_info": {
   "codemirror_mode": {
    "name": "ipython",
    "version": 3
   },
   "file_extension": ".py",
   "mimetype": "text/x-python",
   "name": "python",
   "nbconvert_exporter": "python",
   "pygments_lexer": "ipython3",
   "version": "3.6.0"
  }
 },
 "nbformat": 4,
 "nbformat_minor": 2
}
